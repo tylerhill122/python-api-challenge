{
 "cells": [
  {
   "cell_type": "markdown",
   "id": "5bfbded9",
   "metadata": {},
   "source": [
    "WeatherPy"
   ]
  },
  {
   "cell_type": "code",
   "execution_count": 77,
   "id": "31af04d9",
   "metadata": {},
   "outputs": [],
   "source": [
    "import pandas as pd\n",
    "import requests\n",
    "import json\n",
    "import random\n",
    "from pprint import pprint\n",
    "from api_keys import weather_api_key\n",
    "from citipy import citipy"
   ]
  },
  {
   "cell_type": "code",
   "execution_count": 78,
   "id": "dcdeb77b",
   "metadata": {},
   "outputs": [],
   "source": [
    "url = \"https://api.openweathermap.org/data/2.5/weather?\"\n",
    "lat = 34.0901\n",
    "lon = -118.4065\n",
    "units = \"Imperial\"\n",
    "\n",
    "q_url = f'{url}lat={lat}&lon={lon}&units={units}&APPID={weather_api_key}'\n",
    "# https://api.openweathermap.org/data/2.5/weather?lat={lat}&lon={lon}&appid={API key}"
   ]
  },
  {
   "cell_type": "code",
   "execution_count": 79,
   "id": "3dd090c9",
   "metadata": {},
   "outputs": [
    {
     "name": "stdout",
     "output_type": "stream",
     "text": [
      "{'base': 'stations',\n",
      " 'clouds': {'all': 0},\n",
      " 'cod': 200,\n",
      " 'coord': {'lat': 34.0901, 'lon': -118.4065},\n",
      " 'dt': 1650242635,\n",
      " 'id': 5328041,\n",
      " 'main': {'feels_like': 67.26,\n",
      "          'humidity': 62,\n",
      "          'pressure': 1013,\n",
      "          'temp': 67.86,\n",
      "          'temp_max': 79.54,\n",
      "          'temp_min': 58.06},\n",
      " 'name': 'Beverly Hills',\n",
      " 'sys': {'country': 'US',\n",
      "         'id': 2043049,\n",
      "         'sunrise': 1650201587,\n",
      "         'sunset': 1650248765,\n",
      "         'type': 2},\n",
      " 'timezone': -25200,\n",
      " 'visibility': 10000,\n",
      " 'weather': [{'description': 'clear sky',\n",
      "              'icon': '01d',\n",
      "              'id': 800,\n",
      "              'main': 'Clear'}],\n",
      " 'wind': {'deg': 260, 'speed': 13.8}}\n"
     ]
    }
   ],
   "source": [
    "response = requests.get(q_url).json()\n",
    "pprint(response)"
   ]
  },
  {
   "cell_type": "code",
   "execution_count": 80,
   "id": "a4642b81",
   "metadata": {},
   "outputs": [],
   "source": [
    "temp = response[\"main\"][\"temp\"]\n",
    "humidity = response[\"main\"][\"humidity\"]\n",
    "cloudiness = response[\"clouds\"][\"all\"]\n",
    "wind_speed = response[\"wind\"][\"speed\"]"
   ]
  },
  {
   "cell_type": "code",
   "execution_count": 81,
   "id": "e7023c22",
   "metadata": {},
   "outputs": [
    {
     "name": "stdout",
     "output_type": "stream",
     "text": [
      "Beverly Hills, US\n"
     ]
    }
   ],
   "source": [
    "city = citipy.nearest_city(lat, lon)\n",
    "f_city = city.city_name.title()\n",
    "f_country = city.country_code.upper()\n",
    "print(f'{f_city}, {f_country}')"
   ]
  },
  {
   "cell_type": "code",
   "execution_count": 102,
   "id": "adc16db6",
   "metadata": {},
   "outputs": [
    {
     "data": {
      "text/html": [
       "<div>\n",
       "<style scoped>\n",
       "    .dataframe tbody tr th:only-of-type {\n",
       "        vertical-align: middle;\n",
       "    }\n",
       "\n",
       "    .dataframe tbody tr th {\n",
       "        vertical-align: top;\n",
       "    }\n",
       "\n",
       "    .dataframe thead th {\n",
       "        text-align: right;\n",
       "    }\n",
       "</style>\n",
       "<table border=\"1\" class=\"dataframe\">\n",
       "  <thead>\n",
       "    <tr style=\"text-align: right;\">\n",
       "      <th></th>\n",
       "      <th>Latitude</th>\n",
       "      <th>Longitude</th>\n",
       "      <th>City</th>\n",
       "    </tr>\n",
       "  </thead>\n",
       "  <tbody>\n",
       "    <tr>\n",
       "      <th>0</th>\n",
       "      <td>58.001005</td>\n",
       "      <td>66.049305</td>\n",
       "      <td>Nizhnyaya Tavda,RU</td>\n",
       "    </tr>\n",
       "    <tr>\n",
       "      <th>1</th>\n",
       "      <td>73.587608</td>\n",
       "      <td>-84.313471</td>\n",
       "      <td>Qaanaaq,GL</td>\n",
       "    </tr>\n",
       "    <tr>\n",
       "      <th>2</th>\n",
       "      <td>-49.611014</td>\n",
       "      <td>-2.804248</td>\n",
       "      <td>Cape Town,ZA</td>\n",
       "    </tr>\n",
       "    <tr>\n",
       "      <th>3</th>\n",
       "      <td>-14.247249</td>\n",
       "      <td>173.452922</td>\n",
       "      <td>Sola,VU</td>\n",
       "    </tr>\n",
       "    <tr>\n",
       "      <th>4</th>\n",
       "      <td>-40.045431</td>\n",
       "      <td>69.015978</td>\n",
       "      <td>Souillac,MU</td>\n",
       "    </tr>\n",
       "  </tbody>\n",
       "</table>\n",
       "</div>"
      ],
      "text/plain": [
       "    Latitude   Longitude                City\n",
       "0  58.001005   66.049305  Nizhnyaya Tavda,RU\n",
       "1  73.587608  -84.313471          Qaanaaq,GL\n",
       "2 -49.611014   -2.804248        Cape Town,ZA\n",
       "3 -14.247249  173.452922             Sola,VU\n",
       "4 -40.045431   69.015978         Souillac,MU"
      ]
     },
     "execution_count": 102,
     "metadata": {},
     "output_type": "execute_result"
    }
   ],
   "source": [
    "lats = []\n",
    "longs = []\n",
    "cities = []\n",
    "for x in range(5):\n",
    "    lat = random.uniform(-90,90)\n",
    "    lats.append(lat)\n",
    "    long = random.uniform(-180,180)\n",
    "    longs.append(long)\n",
    "    city = citipy.nearest_city(lat, long)\n",
    "    f_city = city.city_name.title()\n",
    "    f_country = city.country_code.upper()\n",
    "    cities.append(f'{f_city},{f_country}')\n",
    "lat_long = pd.DataFrame({\n",
    "    \"Latitude\": lats,\n",
    "    \"Longitude\": longs,\n",
    "    \"City\": cities,\n",
    "})\n",
    "lat_long.head()"
   ]
  },
  {
   "cell_type": "code",
   "execution_count": 100,
   "id": "8a5114d1",
   "metadata": {},
   "outputs": [],
   "source": [
    "# latitude = lat_long[\"Latitude\"]\n",
    "# longitude = lat_long[\"Longitude\"]\n",
    "# cities = []\n",
    "# for latitude in lat_long:\n",
    "#     for longitude in lat_long:\n",
    "#         city_name = citipy.nearest_city(lat_long[\"Latitude\"], lat_long[\"Longitude\"])\n",
    "#         cities.append(city_name)\n",
    "# print(city_name)"
   ]
  },
  {
   "cell_type": "code",
   "execution_count": null,
   "id": "0c872040",
   "metadata": {},
   "outputs": [],
   "source": []
  }
 ],
 "metadata": {
  "kernelspec": {
   "display_name": "Python 3",
   "language": "python",
   "name": "python3"
  },
  "language_info": {
   "codemirror_mode": {
    "name": "ipython",
    "version": 3
   },
   "file_extension": ".py",
   "mimetype": "text/x-python",
   "name": "python",
   "nbconvert_exporter": "python",
   "pygments_lexer": "ipython3",
   "version": "3.6.10"
  }
 },
 "nbformat": 4,
 "nbformat_minor": 5
}
