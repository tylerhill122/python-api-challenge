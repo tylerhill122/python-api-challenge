{
 "cells": [
  {
   "cell_type": "markdown",
   "id": "482f305b",
   "metadata": {},
   "source": [
    "WeatherPy"
   ]
  },
  {
   "cell_type": "code",
   "execution_count": 77,
   "id": "ae34b504",
   "metadata": {},
   "outputs": [],
   "source": [
    "import pandas as pd\n",
    "import requests\n",
    "import json\n",
    "import random\n",
    "from pprint import pprint\n",
    "from api_keys import weather_api_key\n",
    "from citipy import citipy"
   ]
  },
  {
   "cell_type": "code",
   "execution_count": 78,
   "id": "03f87dbb",
   "metadata": {},
   "outputs": [],
   "source": [
    "url = \"https://api.openweathermap.org/data/2.5/weather?\"\n",
    "units = \"Imperial\"\n",
    "\n",
    "q_url = f'{url}lat={lat}&lon={long}&units={units}&APPID={weather_api_key}'\n",
    "# https://api.openweathermap.org/data/2.5/weather?lat={lat}&lon={lon}&appid={API key}"
   ]
  },
  {
   "cell_type": "code",
   "execution_count": 103,
   "id": "1a9aee9c",
   "metadata": {},
   "outputs": [],
   "source": [
    "response = requests.get(q_url).json()"
   ]
  },
  {
   "cell_type": "code",
   "execution_count": 80,
   "id": "ca542bfb",
   "metadata": {},
   "outputs": [],
   "source": [
    "# temp = response[\"main\"][\"temp\"]\n",
    "# humidity = response[\"main\"][\"humidity\"]\n",
    "# cloudiness = response[\"clouds\"][\"all\"]\n",
    "# wind_speed = response[\"wind\"][\"speed\"]"
   ]
  },
  {
   "cell_type": "code",
   "execution_count": 81,
   "id": "8e184997",
   "metadata": {},
   "outputs": [
    {
     "name": "stdout",
     "output_type": "stream",
     "text": [
      "Beverly Hills, US\n"
     ]
    }
   ],
   "source": [
    "# city = citipy.nearest_city(lat, lon)\n",
    "# f_city = city.city_name.title()\n",
    "# f_country = city.country_code.upper()\n",
    "# print(f'{f_city}, {f_country}')"
   ]
  },
  {
   "cell_type": "code",
   "execution_count": 107,
   "id": "36481d9e",
   "metadata": {},
   "outputs": [
    {
     "data": {
      "text/html": [
       "<div>\n",
       "<style scoped>\n",
       "    .dataframe tbody tr th:only-of-type {\n",
       "        vertical-align: middle;\n",
       "    }\n",
       "\n",
       "    .dataframe tbody tr th {\n",
       "        vertical-align: top;\n",
       "    }\n",
       "\n",
       "    .dataframe thead th {\n",
       "        text-align: right;\n",
       "    }\n",
       "</style>\n",
       "<table border=\"1\" class=\"dataframe\">\n",
       "  <thead>\n",
       "    <tr style=\"text-align: right;\">\n",
       "      <th></th>\n",
       "      <th>Latitude</th>\n",
       "      <th>Longitude</th>\n",
       "      <th>City</th>\n",
       "      <th>Temperature</th>\n",
       "      <th>Humidity</th>\n",
       "      <th>Cloudiness</th>\n",
       "      <th>Wind Speed</th>\n",
       "    </tr>\n",
       "  </thead>\n",
       "  <tbody>\n",
       "    <tr>\n",
       "      <th>0</th>\n",
       "      <td>-36.410806</td>\n",
       "      <td>66.973142</td>\n",
       "      <td>Souillac, MU</td>\n",
       "      <td>67.30</td>\n",
       "      <td>77</td>\n",
       "      <td>100</td>\n",
       "      <td>19.64</td>\n",
       "    </tr>\n",
       "    <tr>\n",
       "      <th>1</th>\n",
       "      <td>43.510826</td>\n",
       "      <td>106.891458</td>\n",
       "      <td>Mandalgovi, MN</td>\n",
       "      <td>48.27</td>\n",
       "      <td>25</td>\n",
       "      <td>0</td>\n",
       "      <td>7.29</td>\n",
       "    </tr>\n",
       "    <tr>\n",
       "      <th>2</th>\n",
       "      <td>6.670751</td>\n",
       "      <td>-22.521055</td>\n",
       "      <td>Bubaque, GW</td>\n",
       "      <td>75.76</td>\n",
       "      <td>79</td>\n",
       "      <td>40</td>\n",
       "      <td>11.70</td>\n",
       "    </tr>\n",
       "    <tr>\n",
       "      <th>3</th>\n",
       "      <td>-26.233518</td>\n",
       "      <td>-21.801372</td>\n",
       "      <td>Jamestown, SH</td>\n",
       "      <td>73.67</td>\n",
       "      <td>93</td>\n",
       "      <td>100</td>\n",
       "      <td>20.92</td>\n",
       "    </tr>\n",
       "    <tr>\n",
       "      <th>4</th>\n",
       "      <td>68.655448</td>\n",
       "      <td>155.110221</td>\n",
       "      <td>Srednekolymsk, RU</td>\n",
       "      <td>14.88</td>\n",
       "      <td>83</td>\n",
       "      <td>100</td>\n",
       "      <td>4.72</td>\n",
       "    </tr>\n",
       "  </tbody>\n",
       "</table>\n",
       "</div>"
      ],
      "text/plain": [
       "    Latitude   Longitude               City  Temperature  Humidity  \\\n",
       "0 -36.410806   66.973142       Souillac, MU        67.30        77   \n",
       "1  43.510826  106.891458     Mandalgovi, MN        48.27        25   \n",
       "2   6.670751  -22.521055        Bubaque, GW        75.76        79   \n",
       "3 -26.233518  -21.801372      Jamestown, SH        73.67        93   \n",
       "4  68.655448  155.110221  Srednekolymsk, RU        14.88        83   \n",
       "\n",
       "   Cloudiness  Wind Speed  \n",
       "0         100       19.64  \n",
       "1           0        7.29  \n",
       "2          40       11.70  \n",
       "3         100       20.92  \n",
       "4         100        4.72  "
      ]
     },
     "execution_count": 107,
     "metadata": {},
     "output_type": "execute_result"
    }
   ],
   "source": [
    "url = \"https://api.openweathermap.org/data/2.5/weather?\"\n",
    "units = \"Imperial\"\n",
    "\n",
    "lats = []\n",
    "longs = []\n",
    "cities = []\n",
    "temperature = []\n",
    "humidity = []\n",
    "cloudiness = []\n",
    "wind_speed = []\n",
    "\n",
    "for x in range(5):\n",
    "    lat = random.uniform(-90,90)\n",
    "    lats.append(lat)\n",
    "    long = random.uniform(-180,180)\n",
    "    longs.append(long)\n",
    "    city = citipy.nearest_city(lat, long)\n",
    "    f_city = city.city_name.title()\n",
    "    f_country = city.country_code.upper()\n",
    "    cities.append(f'{f_city}, {f_country}')\n",
    "    \n",
    "    q_url = f'{url}lat={lat}&lon={long}&units={units}&APPID={weather_api_key}'\n",
    "    response = requests.get(q_url).json()\n",
    "    temp = response[\"main\"][\"temp\"]\n",
    "    humid = response[\"main\"][\"humidity\"]\n",
    "    cloud = response[\"clouds\"][\"all\"]\n",
    "    wind = response[\"wind\"][\"speed\"]\n",
    "    \n",
    "    temperature.append(temp)\n",
    "    humidity.append(humid)\n",
    "    cloudiness.append(cloud)\n",
    "    wind_speed.append(wind)\n",
    "    \n",
    "df = pd.DataFrame({\n",
    "    \"Latitude\": lats,\n",
    "    \"Longitude\": longs,\n",
    "    \"City\": cities,\n",
    "    \"Temperature\": temperature,\n",
    "    \"Humidity\": humidity,\n",
    "    \"Cloudiness\": cloudiness,\n",
    "    \"Wind Speed\": wind_speed,\n",
    "})\n",
    "df.head()"
   ]
  },
  {
   "cell_type": "code",
   "execution_count": null,
   "id": "236c733f",
   "metadata": {},
   "outputs": [],
   "source": []
  }
 ],
 "metadata": {
  "kernelspec": {
   "display_name": "Python 3",
   "language": "python",
   "name": "python3"
  },
  "language_info": {
   "codemirror_mode": {
    "name": "ipython",
    "version": 3
   },
   "file_extension": ".py",
   "mimetype": "text/x-python",
   "name": "python",
   "nbconvert_exporter": "python",
   "pygments_lexer": "ipython3",
   "version": "3.6.10"
  }
 },
 "nbformat": 4,
 "nbformat_minor": 5
}
