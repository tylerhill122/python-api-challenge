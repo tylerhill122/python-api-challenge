{
 "cells": [
  {
   "cell_type": "markdown",
   "id": "fd8bfcfb",
   "metadata": {},
   "source": [
    "# WeatherPy - Tyler Hill"
   ]
  },
  {
   "cell_type": "code",
   "execution_count": 97,
   "id": "2697ba99",
   "metadata": {},
   "outputs": [],
   "source": [
    "import pandas as pd\n",
    "import requests\n",
    "import json\n",
    "import random\n",
    "import matplotlib.pyplot as plt\n",
    "from scipy import stats\n",
    "from pprint import pprint\n",
    "from api_keys import weather_api_key\n",
    "from citipy import citipy"
   ]
  },
  {
   "cell_type": "code",
   "execution_count": 98,
   "id": "fcecc77d",
   "metadata": {},
   "outputs": [],
   "source": [
    "# https://api.openweathermap.org/data/2.5/weather?lat={lat}&lon={lon}&appid={API key}"
   ]
  },
  {
   "cell_type": "code",
   "execution_count": 119,
   "id": "df07ce70",
   "metadata": {},
   "outputs": [
    {
     "name": "stdout",
     "output_type": "stream",
     "text": [
      "[0]: Barrow, US\n",
      "[1]: Miramar, MX\n",
      "[2]: Jamestown, SH\n",
      "[3]: Atuona, PF\n",
      "[4]: Busselton, AU\n",
      "[5]: Longyearbyen, SJ\n",
      "[6]: Ballina, AU\n",
      "[7]: Butaritari, KI\n",
      "[8]: Rikitea, PF\n",
      "[9]: Roma, AU\n"
     ]
    },
    {
     "data": {
      "text/html": [
       "<div>\n",
       "<style scoped>\n",
       "    .dataframe tbody tr th:only-of-type {\n",
       "        vertical-align: middle;\n",
       "    }\n",
       "\n",
       "    .dataframe tbody tr th {\n",
       "        vertical-align: top;\n",
       "    }\n",
       "\n",
       "    .dataframe thead th {\n",
       "        text-align: right;\n",
       "    }\n",
       "</style>\n",
       "<table border=\"1\" class=\"dataframe\">\n",
       "  <thead>\n",
       "    <tr style=\"text-align: right;\">\n",
       "      <th></th>\n",
       "      <th>City</th>\n",
       "      <th>Latitude</th>\n",
       "      <th>Longitude</th>\n",
       "      <th>Temperature</th>\n",
       "      <th>Humidity</th>\n",
       "      <th>Cloudiness</th>\n",
       "      <th>Wind Speed</th>\n",
       "    </tr>\n",
       "  </thead>\n",
       "  <tbody>\n",
       "    <tr>\n",
       "      <th>0</th>\n",
       "      <td>Barrow, US</td>\n",
       "      <td>71.2906</td>\n",
       "      <td>-156.7887</td>\n",
       "      <td>17.62</td>\n",
       "      <td>79</td>\n",
       "      <td>100</td>\n",
       "      <td>8.05</td>\n",
       "    </tr>\n",
       "    <tr>\n",
       "      <th>1</th>\n",
       "      <td>Miramar, MX</td>\n",
       "      <td>22.3333</td>\n",
       "      <td>-97.8667</td>\n",
       "      <td>78.01</td>\n",
       "      <td>89</td>\n",
       "      <td>2</td>\n",
       "      <td>10.27</td>\n",
       "    </tr>\n",
       "    <tr>\n",
       "      <th>2</th>\n",
       "      <td>Jamestown, SH</td>\n",
       "      <td>-15.9387</td>\n",
       "      <td>-5.7168</td>\n",
       "      <td>68.45</td>\n",
       "      <td>75</td>\n",
       "      <td>100</td>\n",
       "      <td>20.47</td>\n",
       "    </tr>\n",
       "    <tr>\n",
       "      <th>3</th>\n",
       "      <td>Atuona, PF</td>\n",
       "      <td>-9.8000</td>\n",
       "      <td>-139.0333</td>\n",
       "      <td>79.20</td>\n",
       "      <td>75</td>\n",
       "      <td>6</td>\n",
       "      <td>15.86</td>\n",
       "    </tr>\n",
       "    <tr>\n",
       "      <th>4</th>\n",
       "      <td>Busselton, AU</td>\n",
       "      <td>-33.6500</td>\n",
       "      <td>115.3333</td>\n",
       "      <td>74.75</td>\n",
       "      <td>35</td>\n",
       "      <td>0</td>\n",
       "      <td>3.31</td>\n",
       "    </tr>\n",
       "  </tbody>\n",
       "</table>\n",
       "</div>"
      ],
      "text/plain": [
       "            City  Latitude  Longitude  Temperature  Humidity  Cloudiness  \\\n",
       "0     Barrow, US   71.2906  -156.7887        17.62        79         100   \n",
       "1    Miramar, MX   22.3333   -97.8667        78.01        89           2   \n",
       "2  Jamestown, SH  -15.9387    -5.7168        68.45        75         100   \n",
       "3     Atuona, PF   -9.8000  -139.0333        79.20        75           6   \n",
       "4  Busselton, AU  -33.6500   115.3333        74.75        35           0   \n",
       "\n",
       "   Wind Speed  \n",
       "0        8.05  \n",
       "1       10.27  \n",
       "2       20.47  \n",
       "3       15.86  \n",
       "4        3.31  "
      ]
     },
     "execution_count": 119,
     "metadata": {},
     "output_type": "execute_result"
    }
   ],
   "source": [
    "url = \"https://api.openweathermap.org/data/2.5/weather?\"\n",
    "units = \"Imperial\"\n",
    "\n",
    "# Create lists to store values from for-loop\n",
    "lats = []\n",
    "lons = []\n",
    "cities = []\n",
    "temperature = []\n",
    "humidity = []\n",
    "cloudiness = []\n",
    "wind_speed = []\n",
    "\n",
    "# Declare number of samples to calculate\n",
    "num_samples = 10\n",
    "\n",
    "for x in range(num_samples):\n",
    "    \n",
    "    # Randomly generate Latitude and Longitude, append values\n",
    "    lat = random.uniform(-90,90)\n",
    "    lon = random.uniform(-180,180)\n",
    "    \n",
    "    # Grab nearest city from Lat + Lon, then append 'cities' list\n",
    "    city = citipy.nearest_city(lat, lon)\n",
    "    f_city = city.city_name.title()\n",
    "    f_country = city.country_code.upper()\n",
    "    city_country = f'{f_city}, {f_country}'\n",
    "    if city_country not in cities:\n",
    "        cities.append(city_country)\n",
    "\n",
    "city = []\n",
    "for i, response in enumerate(cities):\n",
    "    q_url = f'{url}&units={units}&q={cities[i]}&APPID={weather_api_key}'\n",
    "    response = requests.get(q_url).json()\n",
    "    try:\n",
    "        temp = response[\"main\"][\"temp\"]\n",
    "        humid = response[\"main\"][\"humidity\"]\n",
    "        cloud = response[\"clouds\"][\"all\"]\n",
    "        wind = response[\"wind\"][\"speed\"]\n",
    "        latc = response[\"coord\"][\"lat\"]\n",
    "        lonc = response[\"coord\"][\"lon\"]\n",
    "        lats.append(latc)\n",
    "        lons.append(lonc)\n",
    "        city.append(cities[i])\n",
    "        temperature.append(temp)\n",
    "        humidity.append(humid)\n",
    "        cloudiness.append(cloud)\n",
    "        wind_speed.append(wind)\n",
    "        print(f'[{i}]: {cities[i]}')\n",
    "    except:\n",
    "        print(\"No data\")\n",
    "        pass\n",
    "\n",
    "\n",
    "# Build dataframe from collected values\n",
    "df = pd.DataFrame({\n",
    "    \"City\": city,\n",
    "    \"Latitude\": lats,\n",
    "    \"Longitude\": lons,\n",
    "    \"Temperature\": temperature,\n",
    "    \"Humidity\": humidity,\n",
    "    \"Cloudiness\": cloudiness,\n",
    "    \"Wind Speed\": wind_speed,\n",
    "})\n",
    "\n",
    "# Display dataframe\n",
    "df.head()"
   ]
  },
  {
   "cell_type": "code",
   "execution_count": 100,
   "id": "c7fdbf6b",
   "metadata": {},
   "outputs": [],
   "source": [
    "# Write DataFrame to csv\n",
    "output_file = \"Output/WeatherPy.csv\"\n",
    "df.to_csv(output_file,index=False, header=True)"
   ]
  },
  {
   "cell_type": "code",
   "execution_count": 101,
   "id": "de6ffca8",
   "metadata": {},
   "outputs": [],
   "source": [
    "# Declare column values for ease of use\n",
    "lats = df[\"Latitude\"]\n",
    "longs = df[\"Longitude\"]\n",
    "temps = df[\"Temperature\"]\n",
    "humids = df[\"Humidity\"]\n",
    "clouds = df[\"Cloudiness\"]\n",
    "winds = df[\"Wind Speed\"]"
   ]
  },
  {
   "cell_type": "code",
   "execution_count": 102,
   "id": "18ad7995",
   "metadata": {},
   "outputs": [],
   "source": [
    "# Determine max and min values to determine xlim for each plot\n",
    "temp_min = temps.min()\n",
    "temp_max = temps.max()\n",
    "\n",
    "humid_min = humids.min()\n",
    "humid_max = humids.max()\n",
    "\n",
    "cloud_min = clouds.min()\n",
    "cloud_max = clouds.max()\n",
    "\n",
    "wind_min = winds.min()\n",
    "wind_max = winds.max()"
   ]
  },
  {
   "cell_type": "markdown",
   "id": "efccdb3f",
   "metadata": {},
   "source": [
    "# Scatter Plots"
   ]
  },
  {
   "cell_type": "code",
   "execution_count": 103,
   "id": "e406fc93",
   "metadata": {},
   "outputs": [
    {
     "data": {
      "image/png": "[encoded data removed]",
      "text/plain": [
       "<Figure size 432x288 with 1 Axes>"
      ]
     },
     "metadata": {
      "needs_background": "light"
     },
     "output_type": "display_data"
    }
   ],
   "source": [
    "# Temp vs. Latitude\n",
    "plt.scatter(temps, lats)\n",
    "plt.xlabel(\"Temperature (F)\")\n",
    "plt.ylabel(\"Latitude\")\n",
    "plt.ylim(-90,90)\n",
    "plt.xlim(temp_min-2, temp_max+2)\n",
    "\n",
    "slope, int, r, p, std_err = stats.linregress(temps, lats)\n",
    "y = slope * temps + int\n",
    "plt.plot(temps,y,c=\"r\")\n",
    "line = \"y = \" + str(round(slope,2)) + \"x + \" + str(round(int,2))\n",
    "plt.annotate(line,(temp_min+10,0),fontsize=15,color=\"red\")\n",
    "\n",
    "plt.savefig(\"Output/Images/temp_vs_lat.png\")"
   ]
  },
  {
   "cell_type": "code",
   "execution_count": 104,
   "id": "2b1846e1",
   "metadata": {},
   "outputs": [
    {
     "data": {
      "image/png": "[encoded data removed]",
      "text/plain": [
       "<Figure size 432x288 with 1 Axes>"
      ]
     },
     "metadata": {
      "needs_background": "light"
     },
     "output_type": "display_data"
    }
   ],
   "source": [
    "# Humidity vs. Latitude\n",
    "plt.scatter(humids, lats)\n",
    "plt.xlabel(\"Humidity (%)\")\n",
    "plt.ylabel(\"Latitude\")\n",
    "plt.ylim(-90,90)\n",
    "plt.xlim(humid_min-2,humid_max+2)\n",
    "\n",
    "slope, int, r, p, std_err = stats.linregress(humids, lats)\n",
    "y = slope * humids + int\n",
    "plt.plot(humids,y,c=\"r\")\n",
    "line = \"y = \" + str(round(slope,2)) + \"x + \" + str(round(int,2))\n",
    "plt.annotate(line,(humid_min+10,0),fontsize=15,color=\"red\")\n",
    "\n",
    "plt.savefig(\"Output/Images/humid_vs_lat.png\")"
   ]
  },
  {
   "cell_type": "code",
   "execution_count": 105,
   "id": "4e15447e",
   "metadata": {},
   "outputs": [
    {
     "data": {
      "image/png": "[encoded data removed]",
      "text/plain": [
       "<Figure size 432x288 with 1 Axes>"
      ]
     },
     "metadata": {
      "needs_background": "light"
     },
     "output_type": "display_data"
    }
   ],
   "source": [
    "# Cloudiness vs. Latitude\n",
    "plt.scatter(clouds, lats)\n",
    "plt.xlabel(\"Cloudiness (%)\")\n",
    "plt.ylabel(\"Latitude\")\n",
    "plt.ylim(-90,90)\n",
    "plt.xlim(cloud_min-2, cloud_max+2)\n",
    "\n",
    "slope, int, r, p, std_err = stats.linregress(clouds, lats)\n",
    "y = slope * clouds + int\n",
    "plt.plot(clouds,y,c=\"r\")\n",
    "line = \"y = \" + str(round(slope,2)) + \"x + \" + str(round(int,2))\n",
    "plt.annotate(line,(cloud_min+10,0),fontsize=15,color=\"red\")\n",
    "\n",
    "plt.savefig(\"Output/Images/cloud_vs_lat.png\")"
   ]
  },
  {
   "cell_type": "code",
   "execution_count": 106,
   "id": "7d93cc14",
   "metadata": {},
   "outputs": [
    {
     "data": {
      "image/png": "[encoded data removed]",
      "text/plain": [
       "<Figure size 432x288 with 1 Axes>"
      ]
     },
     "metadata": {
      "needs_background": "light"
     },
     "output_type": "display_data"
    }
   ],
   "source": [
    "# Wind speed vs. Latitude\n",
    "plt.scatter(winds, lats)\n",
    "plt.xlabel(\"Wind Speed (mph)\")\n",
    "plt.ylabel(\"Latitude\")\n",
    "plt.ylim(-90,90)\n",
    "plt.xlim(wind_min-1, wind_max+1)\n",
    "\n",
    "slope, int, r, p, std_err = stats.linregress(winds, lats)\n",
    "y = slope * winds + int\n",
    "plt.plot(winds,y,c=\"r\")\n",
    "line = \"y = \" + str(round(slope,2)) + \"x + \" + str(round(int,2))\n",
    "plt.annotate(line,(wind_min+5,0),fontsize=15,color=\"red\")\n",
    "\n",
    "plt.savefig(\"Output/Images/windspeed_vs_lat.png\")"
   ]
  },
  {
   "cell_type": "markdown",
   "id": "8c4d7582",
   "metadata": {},
   "source": [
    "# Separate values into Northern and Southern Hemispheres"
   ]
  },
  {
   "cell_type": "code",
   "execution_count": 107,
   "id": "bf487cf6",
   "metadata": {},
   "outputs": [
    {
     "data": {
      "text/html": [
       "<div>\n",
       "<style scoped>\n",
       "    .dataframe tbody tr th:only-of-type {\n",
       "        vertical-align: middle;\n",
       "    }\n",
       "\n",
       "    .dataframe tbody tr th {\n",
       "        vertical-align: top;\n",
       "    }\n",
       "\n",
       "    .dataframe thead th {\n",
       "        text-align: right;\n",
       "    }\n",
       "</style>\n",
       "<table border=\"1\" class=\"dataframe\">\n",
       "  <thead>\n",
       "    <tr style=\"text-align: right;\">\n",
       "      <th></th>\n",
       "      <th>City</th>\n",
       "      <th>Latitude</th>\n",
       "      <th>Longitude</th>\n",
       "      <th>Temperature</th>\n",
       "      <th>Humidity</th>\n",
       "      <th>Cloudiness</th>\n",
       "      <th>Wind Speed</th>\n",
       "      <th>Hemisphere</th>\n",
       "    </tr>\n",
       "  </thead>\n",
       "  <tbody>\n",
       "    <tr>\n",
       "      <th>0</th>\n",
       "      <td>Butaritari, KI</td>\n",
       "      <td>3.0707</td>\n",
       "      <td>172.7902</td>\n",
       "      <td>82.18</td>\n",
       "      <td>78</td>\n",
       "      <td>41</td>\n",
       "      <td>14.50</td>\n",
       "      <td>Northern</td>\n",
       "    </tr>\n",
       "    <tr>\n",
       "      <th>1</th>\n",
       "      <td>Kapaa, US</td>\n",
       "      <td>22.0752</td>\n",
       "      <td>-159.3190</td>\n",
       "      <td>73.78</td>\n",
       "      <td>86</td>\n",
       "      <td>40</td>\n",
       "      <td>18.41</td>\n",
       "      <td>Northern</td>\n",
       "    </tr>\n",
       "    <tr>\n",
       "      <th>2</th>\n",
       "      <td>Hualmay, PE</td>\n",
       "      <td>-11.0964</td>\n",
       "      <td>-77.6139</td>\n",
       "      <td>65.28</td>\n",
       "      <td>93</td>\n",
       "      <td>100</td>\n",
       "      <td>5.79</td>\n",
       "      <td>Southern</td>\n",
       "    </tr>\n",
       "    <tr>\n",
       "      <th>3</th>\n",
       "      <td>Sitka, US</td>\n",
       "      <td>57.0531</td>\n",
       "      <td>-135.3300</td>\n",
       "      <td>48.09</td>\n",
       "      <td>61</td>\n",
       "      <td>100</td>\n",
       "      <td>12.66</td>\n",
       "      <td>Northern</td>\n",
       "    </tr>\n",
       "    <tr>\n",
       "      <th>4</th>\n",
       "      <td>Hobart, AU</td>\n",
       "      <td>-42.8794</td>\n",
       "      <td>147.3294</td>\n",
       "      <td>61.57</td>\n",
       "      <td>54</td>\n",
       "      <td>75</td>\n",
       "      <td>9.22</td>\n",
       "      <td>Southern</td>\n",
       "    </tr>\n",
       "  </tbody>\n",
       "</table>\n",
       "</div>"
      ],
      "text/plain": [
       "             City  Latitude  Longitude  Temperature  Humidity  Cloudiness  \\\n",
       "0  Butaritari, KI    3.0707   172.7902        82.18        78          41   \n",
       "1       Kapaa, US   22.0752  -159.3190        73.78        86          40   \n",
       "2     Hualmay, PE  -11.0964   -77.6139        65.28        93         100   \n",
       "3       Sitka, US   57.0531  -135.3300        48.09        61         100   \n",
       "4      Hobart, AU  -42.8794   147.3294        61.57        54          75   \n",
       "\n",
       "   Wind Speed Hemisphere  \n",
       "0       14.50   Northern  \n",
       "1       18.41   Northern  \n",
       "2        5.79   Southern  \n",
       "3       12.66   Northern  \n",
       "4        9.22   Southern  "
      ]
     },
     "execution_count": 107,
     "metadata": {},
     "output_type": "execute_result"
    }
   ],
   "source": [
    "hemisphere = []\n",
    "for index, row in df.iterrows():\n",
    "    lat = row[\"Latitude\"]\n",
    "    if lat >= 0:\n",
    "        hem = \"Northern\"\n",
    "        hemisphere.append(hem)\n",
    "    elif lat < 0:\n",
    "        hem = \"Southern\"\n",
    "        hemisphere.append(hem)\n",
    "df[\"Hemisphere\"] = hemisphere\n",
    "df.head()"
   ]
  },
  {
   "cell_type": "code",
   "execution_count": 108,
   "id": "27425064",
   "metadata": {},
   "outputs": [],
   "source": [
    "n_hem = df.loc[(df[\"Hemisphere\"]) == \"Northern\"]\n",
    "s_hem = df.loc[(df[\"Hemisphere\"]) == \"Southern\"]"
   ]
  },
  {
   "cell_type": "code",
   "execution_count": 109,
   "id": "05d5d10c",
   "metadata": {},
   "outputs": [],
   "source": [
    "n_lats = n_hem[\"Latitude\"]\n",
    "s_lats = s_hem[\"Latitude\"]\n",
    "n_longs = n_hem[\"Longitude\"]\n",
    "s_longs = s_hem[\"Longitude\"]\n",
    "n_temps = n_hem[\"Temperature\"]\n",
    "s_temps = s_hem[\"Temperature\"]\n",
    "n_humids = n_hem[\"Humidity\"]\n",
    "s_humids = s_hem[\"Humidity\"]\n",
    "n_clouds = n_hem[\"Cloudiness\"]\n",
    "s_clouds = s_hem[\"Cloudiness\"]\n",
    "n_winds = n_hem[\"Wind Speed\"]\n",
    "s_winds = s_hem[\"Wind Speed\"]"
   ]
  },
  {
   "cell_type": "code",
   "execution_count": 110,
   "id": "3f66d72d",
   "metadata": {},
   "outputs": [],
   "source": [
    "min_n_temps = n_temps.min()\n",
    "max_n_temps = n_temps.max()\n",
    "min_s_temps = s_temps.min()\n",
    "max_s_temps = s_temps.max()\n",
    "\n",
    "min_n_humids = n_humids.min()\n",
    "max_n_humids = n_humids.max()\n",
    "min_s_humids = s_humids.min()\n",
    "max_s_humids = s_humids.max()\n",
    "\n",
    "min_n_clouds = n_clouds.min()\n",
    "max_n_clouds = n_clouds.max()\n",
    "min_s_clouds = s_clouds.min()\n",
    "max_s_clouds = s_clouds.max()\n",
    "\n",
    "min_n_winds = n_winds.min()\n",
    "max_n_winds = n_winds.max()\n",
    "min_s_winds = s_winds.min()\n",
    "max_s_winds = s_winds.max()"
   ]
  },
  {
   "cell_type": "code",
   "execution_count": 111,
   "id": "8e4575be",
   "metadata": {},
   "outputs": [
    {
     "data": {
      "image/png": "[encoded data removed]",
      "text/plain": [
       "<Figure size 432x288 with 1 Axes>"
      ]
     },
     "metadata": {
      "needs_background": "light"
     },
     "output_type": "display_data"
    }
   ],
   "source": [
    "# Temp vs. Latitude # Northern Hemisphere\n",
    "plt.scatter(n_temps, n_lats)\n",
    "plt.xlabel(\"Temperature (F)\")\n",
    "plt.ylabel(\"Latitude\")\n",
    "plt.ylim(0,90)\n",
    "plt.xlim(min_n_temps-2, max_n_temps+2)\n",
    "\n",
    "slope, int, r, p, std_err = stats.linregress(n_temps, n_lats)\n",
    "y = slope * n_temps + int\n",
    "plt.plot(n_temps,y,c=\"r\")\n",
    "line = \"y = \" + str(round(slope,2)) + \"x + \" + str(round(int,2))\n",
    "plt.annotate(line,(min_n_temps+3,20),fontsize=15,color=\"red\")\n",
    "\n",
    "plt.savefig(\"Output/Images/Northern Hemisphere/temps_vs_lat.png\")"
   ]
  },
  {
   "cell_type": "code",
   "execution_count": 112,
   "id": "1bb2049e",
   "metadata": {},
   "outputs": [
    {
     "data": {
      "image/png": "[encoded data removed]",
      "text/plain": [
       "<Figure size 432x288 with 1 Axes>"
      ]
     },
     "metadata": {
      "needs_background": "light"
     },
     "output_type": "display_data"
    }
   ],
   "source": [
    "# Temp vs. Latitude # Southern Hemisphere\n",
    "plt.scatter(s_temps, s_lats)\n",
    "plt.xlabel(\"Temperature (F)\")\n",
    "plt.ylabel(\"Latitude\")\n",
    "plt.ylim(-90,0)\n",
    "plt.xlim(min_s_temps-2, max_s_temps+2)\n",
    "\n",
    "slope, int, r, p, std_err = stats.linregress(s_temps, s_lats)\n",
    "y = slope * s_temps + int\n",
    "plt.plot(s_temps,y,c=\"r\")\n",
    "line = \"y = \" + str(round(slope,2)) + \"x + \" + str(round(int,2))\n",
    "plt.annotate(line,(min_s_temps+3,-20),fontsize=15,color=\"red\")\n",
    "\n",
    "plt.savefig(\"Output/Images/Southern Hemisphere/temps_vs_lat.png\")"
   ]
  },
  {
   "cell_type": "code",
   "execution_count": 113,
   "id": "050bf865",
   "metadata": {},
   "outputs": [
    {
     "data": {
      "image/png": "[encoded data removed]",
      "text/plain": [
       "<Figure size 432x288 with 1 Axes>"
      ]
     },
     "metadata": {
      "needs_background": "light"
     },
     "output_type": "display_data"
    }
   ],
   "source": [
    "# Humidity vs. Latitude # Northern Hemisphere\n",
    "plt.scatter(n_humids, n_lats)\n",
    "plt.xlabel(\"Humidity\")\n",
    "plt.ylabel(\"Latitude\")\n",
    "plt.ylim(0,90)\n",
    "plt.xlim(min_n_humids-2, max_n_humids+2)\n",
    "\n",
    "slope, int, r, p, std_err = stats.linregress(n_humids, n_lats)\n",
    "y = slope * n_humids + int\n",
    "plt.plot(n_humids,y,c=\"r\")\n",
    "line = \"y = \" + str(round(slope,2)) + \"x + \" + str(round(int,2))\n",
    "plt.annotate(line,(min_n_humids+3,20),fontsize=15,color=\"red\")\n",
    "\n",
    "plt.savefig(\"Output/Images/Northern Hemisphere/humid_vs_lat.png\")"
   ]
  },
  {
   "cell_type": "code",
   "execution_count": 114,
   "id": "28c325d1",
   "metadata": {},
   "outputs": [
    {
     "data": {
      "image/png": "[encoded data removed]",
      "text/plain": [
       "<Figure size 432x288 with 1 Axes>"
      ]
     },
     "metadata": {
      "needs_background": "light"
     },
     "output_type": "display_data"
    }
   ],
   "source": [
    "# Humidity vs. Latitude # Southern Hemisphere\n",
    "plt.scatter(s_humids, s_lats)\n",
    "plt.xlabel(\"Humidity\")\n",
    "plt.ylabel(\"Latitude\")\n",
    "plt.ylim(-90,0)\n",
    "plt.xlim(min_s_humids-2, max_s_humids+2)\n",
    "\n",
    "slope, int, r, p, std_err = stats.linregress(s_humids, s_lats)\n",
    "y = slope * s_humids + int\n",
    "plt.plot(s_humids,y,c=\"r\")\n",
    "line = \"y = \" + str(round(slope,2)) + \"x + \" + str(round(int,2))\n",
    "plt.annotate(line,(min_s_humids+1,-70),fontsize=15,color=\"red\")\n",
    "\n",
    "plt.savefig(\"Output/Images/Southern Hemisphere/humid_vs_lat.png\")"
   ]
  },
  {
   "cell_type": "code",
   "execution_count": 115,
   "id": "18c34c4e",
   "metadata": {},
   "outputs": [
    {
     "data": {
      "image/png": "[encoded data removed]",
      "text/plain": [
       "<Figure size 432x288 with 1 Axes>"
      ]
     },
     "metadata": {
      "needs_background": "light"
     },
     "output_type": "display_data"
    }
   ],
   "source": [
    "# Cloudiness vs. Latitude # Northern Hemisphere\n",
    "plt.scatter(n_clouds, n_lats)\n",
    "plt.xlabel(\"Cloudiness\")\n",
    "plt.ylabel(\"Latitude\")\n",
    "plt.ylim(0,90)\n",
    "plt.xlim(min_n_clouds-2, max_n_clouds+2)\n",
    "\n",
    "slope, int, r, p, std_err = stats.linregress(n_clouds, n_lats)\n",
    "y = slope * n_clouds + int\n",
    "plt.plot(n_clouds,y,c=\"r\")\n",
    "line = \"y = \" + str(round(slope,2)) + \"x + \" + str(round(int,2))\n",
    "plt.annotate(line,(min_n_clouds+2,20),fontsize=15,color=\"red\")\n",
    "\n",
    "plt.savefig(\"Output/Images/Northern Hemisphere/cloud_vs_lat.png\")"
   ]
  },
  {
   "cell_type": "code",
   "execution_count": 116,
   "id": "2dd670a8",
   "metadata": {},
   "outputs": [
    {
     "data": {
      "image/png": "[encoded data removed]",
      "text/plain": [
       "<Figure size 432x288 with 1 Axes>"
      ]
     },
     "metadata": {
      "needs_background": "light"
     },
     "output_type": "display_data"
    }
   ],
   "source": [
    "# Cloudiness vs. Latitude # Southern Hemisphere\n",
    "plt.scatter(s_clouds, s_lats)\n",
    "plt.xlabel(\"Cloudiness\")\n",
    "plt.ylabel(\"Latitude\")\n",
    "plt.ylim(-90,0)\n",
    "plt.xlim(min_s_clouds-2, max_s_clouds+2)\n",
    "\n",
    "slope, int, r, p, std_err = stats.linregress(s_clouds, s_lats)\n",
    "y = slope * s_clouds + int\n",
    "plt.plot(s_clouds,y,c=\"r\")\n",
    "line = \"y = \" + str(round(slope,2)) + \"x + \" + str(round(int,2))\n",
    "plt.annotate(line,(min_s_clouds+3,-70),fontsize=15,color=\"red\")\n",
    "\n",
    "plt.savefig(\"Output/Images/Southern Hemisphere/cloud_vs_lat.png\")"
   ]
  },
  {
   "cell_type": "code",
   "execution_count": 117,
   "id": "bcfc3e08",
   "metadata": {},
   "outputs": [
    {
     "data": {
      "image/png": "[encoded data removed]",
      "text/plain": [
       "<Figure size 432x288 with 1 Axes>"
      ]
     },
     "metadata": {
      "needs_background": "light"
     },
     "output_type": "display_data"
    }
   ],
   "source": [
    "# Wind Speed vs. Latitude # Northern Hemisphere\n",
    "plt.scatter(n_winds, n_lats)\n",
    "plt.xlabel(\"Wind Speed\")\n",
    "plt.ylabel(\"Latitude\")\n",
    "plt.ylim(0,90)\n",
    "plt.xlim(min_n_winds-0.5, max_n_winds+0.5)\n",
    "\n",
    "slope, int, r, p, std_err = stats.linregress(n_winds, n_lats)\n",
    "y = slope * n_winds + int\n",
    "plt.plot(n_winds,y,c=\"r\")\n",
    "line = \"y = \" + str(round(slope,2)) + \"x + \" + str(round(int,2))\n",
    "plt.annotate(line,(min_n_winds,20),fontsize=15,color=\"red\")\n",
    "\n",
    "plt.savefig(\"Output/Images/Northern Hemisphere/windspeed_vs_lat.png\")"
   ]
  },
  {
   "cell_type": "code",
   "execution_count": 118,
   "id": "2a9dad2f",
   "metadata": {},
   "outputs": [
    {
     "data": {
      "image/png": "[encoded data removed]",
      "text/plain": [
       "<Figure size 432x288 with 1 Axes>"
      ]
     },
     "metadata": {
      "needs_background": "light"
     },
     "output_type": "display_data"
    }
   ],
   "source": [
    "# Wind Speed vs. Latitude # Southern Hemisphere\n",
    "plt.scatter(s_winds, s_lats)\n",
    "plt.xlabel(\"Wind Speed\")\n",
    "plt.ylabel(\"Latitude\")\n",
    "plt.ylim(-90,0)\n",
    "plt.xlim(min_s_winds-0.5, max_s_winds+0.5)\n",
    "\n",
    "slope, int, r, p, std_err = stats.linregress(s_winds, s_lats)\n",
    "y = slope * s_winds + int\n",
    "plt.plot(s_winds,y,c=\"r\")\n",
    "line = \"y = \" + str(round(slope,2)) + \"x + \" + str(round(int,2))\n",
    "plt.annotate(line,(min_s_winds,-70),fontsize=15,color=\"red\")\n",
    "\n",
    "plt.savefig(\"Output/Images/Southern Hemisphere/windspeed_vs_lat.png\")"
   ]
  },
  {
   "cell_type": "code",
   "execution_count": null,
   "id": "da19750c",
   "metadata": {},
   "outputs": [],
   "source": []
  },
  {
   "cell_type": "code",
   "execution_count": null,
   "id": "116da569",
   "metadata": {},
   "outputs": [],
   "source": []
  }
 ],
 "metadata": {
  "kernelspec": {
   "display_name": "Python 3",
   "language": "python",
   "name": "python3"
  },
  "language_info": {
   "codemirror_mode": {
    "name": "ipython",
    "version": 3
   },
   "file_extension": ".py",
   "mimetype": "text/x-python",
   "name": "python",
   "nbconvert_exporter": "python",
   "pygments_lexer": "ipython3",
   "version": "3.6.10"
  }
 },
 "nbformat": 4,
 "nbformat_minor": 5
}
