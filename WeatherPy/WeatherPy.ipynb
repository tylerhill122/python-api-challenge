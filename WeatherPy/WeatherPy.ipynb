{
 "cells": [
  {
   "cell_type": "markdown",
   "id": "fd8bfcfb",
   "metadata": {},
   "source": [
    "WeatherPy"
   ]
  },
  {
   "cell_type": "code",
   "execution_count": 1,
   "id": "2697ba99",
   "metadata": {},
   "outputs": [],
   "source": [
    "import pandas as pd\n",
    "import requests\n",
    "import json\n",
    "import random\n",
    "import matplotlib.pyplot as plt\n",
    "from pprint import pprint\n",
    "from api_keys import weather_api_key\n",
    "from citipy import citipy"
   ]
  },
  {
   "cell_type": "code",
   "execution_count": 2,
   "id": "fcecc77d",
   "metadata": {},
   "outputs": [],
   "source": [
    "# https://api.openweathermap.org/data/2.5/weather?lat={lat}&lon={lon}&appid={API key}"
   ]
  },
  {
   "cell_type": "code",
   "execution_count": 3,
   "id": "df07ce70",
   "metadata": {},
   "outputs": [
    {
     "data": {
      "text/html": [
       "<div>\n",
       "<style scoped>\n",
       "    .dataframe tbody tr th:only-of-type {\n",
       "        vertical-align: middle;\n",
       "    }\n",
       "\n",
       "    .dataframe tbody tr th {\n",
       "        vertical-align: top;\n",
       "    }\n",
       "\n",
       "    .dataframe thead th {\n",
       "        text-align: right;\n",
       "    }\n",
       "</style>\n",
       "<table border=\"1\" class=\"dataframe\">\n",
       "  <thead>\n",
       "    <tr style=\"text-align: right;\">\n",
       "      <th></th>\n",
       "      <th>Latitude</th>\n",
       "      <th>Longitude</th>\n",
       "      <th>City</th>\n",
       "      <th>Temperature</th>\n",
       "      <th>Humidity</th>\n",
       "      <th>Cloudiness</th>\n",
       "      <th>Wind Speed</th>\n",
       "    </tr>\n",
       "  </thead>\n",
       "  <tbody>\n",
       "    <tr>\n",
       "      <th>0</th>\n",
       "      <td>0.924301</td>\n",
       "      <td>-33.989523</td>\n",
       "      <td>Touros, BR</td>\n",
       "      <td>80.46</td>\n",
       "      <td>81</td>\n",
       "      <td>100</td>\n",
       "      <td>7.43</td>\n",
       "    </tr>\n",
       "    <tr>\n",
       "      <th>1</th>\n",
       "      <td>-18.499855</td>\n",
       "      <td>-151.703681</td>\n",
       "      <td>Tevaitoa, PF</td>\n",
       "      <td>81.28</td>\n",
       "      <td>68</td>\n",
       "      <td>4</td>\n",
       "      <td>4.52</td>\n",
       "    </tr>\n",
       "    <tr>\n",
       "      <th>2</th>\n",
       "      <td>3.321691</td>\n",
       "      <td>22.698733</td>\n",
       "      <td>Ouango, CF</td>\n",
       "      <td>69.71</td>\n",
       "      <td>99</td>\n",
       "      <td>100</td>\n",
       "      <td>2.75</td>\n",
       "    </tr>\n",
       "    <tr>\n",
       "      <th>3</th>\n",
       "      <td>-49.235988</td>\n",
       "      <td>82.161359</td>\n",
       "      <td>Busselton, AU</td>\n",
       "      <td>43.48</td>\n",
       "      <td>96</td>\n",
       "      <td>100</td>\n",
       "      <td>21.54</td>\n",
       "    </tr>\n",
       "    <tr>\n",
       "      <th>4</th>\n",
       "      <td>-0.968984</td>\n",
       "      <td>-57.865464</td>\n",
       "      <td>Urucara, BR</td>\n",
       "      <td>70.02</td>\n",
       "      <td>98</td>\n",
       "      <td>67</td>\n",
       "      <td>0.72</td>\n",
       "    </tr>\n",
       "  </tbody>\n",
       "</table>\n",
       "</div>"
      ],
      "text/plain": [
       "    Latitude   Longitude           City  Temperature  Humidity  Cloudiness  \\\n",
       "0   0.924301  -33.989523     Touros, BR        80.46        81         100   \n",
       "1 -18.499855 -151.703681   Tevaitoa, PF        81.28        68           4   \n",
       "2   3.321691   22.698733     Ouango, CF        69.71        99         100   \n",
       "3 -49.235988   82.161359  Busselton, AU        43.48        96         100   \n",
       "4  -0.968984  -57.865464    Urucara, BR        70.02        98          67   \n",
       "\n",
       "   Wind Speed  \n",
       "0        7.43  \n",
       "1        4.52  \n",
       "2        2.75  \n",
       "3       21.54  \n",
       "4        0.72  "
      ]
     },
     "execution_count": 3,
     "metadata": {},
     "output_type": "execute_result"
    }
   ],
   "source": [
    "url = \"https://api.openweathermap.org/data/2.5/weather?\"\n",
    "units = \"Imperial\"\n",
    "\n",
    "lats = []\n",
    "longs = []\n",
    "cities = []\n",
    "temperature = []\n",
    "humidity = []\n",
    "cloudiness = []\n",
    "wind_speed = []\n",
    "\n",
    "num_samples = 5\n",
    "\n",
    "for x in range(num_samples):\n",
    "    lat = random.uniform(-90,90)\n",
    "    lats.append(lat)\n",
    "    long = random.uniform(-180,180)\n",
    "    longs.append(long)\n",
    "    city = citipy.nearest_city(lat, long)\n",
    "    f_city = city.city_name.title()\n",
    "    f_country = city.country_code.upper()\n",
    "    cities.append(f'{f_city}, {f_country}')\n",
    "    \n",
    "    q_url = f'{url}lat={lat}&lon={long}&units={units}&APPID={weather_api_key}'\n",
    "    response = requests.get(q_url).json()\n",
    "    temp = response[\"main\"][\"temp\"]\n",
    "    humid = response[\"main\"][\"humidity\"]\n",
    "    cloud = response[\"clouds\"][\"all\"]\n",
    "    wind = response[\"wind\"][\"speed\"]\n",
    "    \n",
    "    temperature.append(temp)\n",
    "    humidity.append(humid)\n",
    "    cloudiness.append(cloud)\n",
    "    wind_speed.append(wind)\n",
    "    \n",
    "df = pd.DataFrame({\n",
    "    \"Latitude\": lats,\n",
    "    \"Longitude\": longs,\n",
    "    \"City\": cities,\n",
    "    \"Temperature\": temperature,\n",
    "    \"Humidity\": humidity,\n",
    "    \"Cloudiness\": cloudiness,\n",
    "    \"Wind Speed\": wind_speed,\n",
    "})\n",
    "df.head()"
   ]
  },
  {
   "cell_type": "code",
   "execution_count": 4,
   "id": "de6ffca8",
   "metadata": {},
   "outputs": [],
   "source": [
    "lats = df[\"Latitude\"]\n",
    "longs = df[\"Longitude\"]\n",
    "temps = df[\"Temperature\"]\n",
    "humids = df[\"Humidity\"]\n",
    "clouds = df[\"Cloudiness\"]\n",
    "winds = df[\"Wind Speed\"]"
   ]
  },
  {
   "cell_type": "code",
   "execution_count": 5,
   "id": "e406fc93",
   "metadata": {},
   "outputs": [
    {
     "data": {
      "text/plain": [
       "(-30, 120)"
      ]
     },
     "execution_count": 5,
     "metadata": {},
     "output_type": "execute_result"
    },
    {
     "data": {
      "image/png": "[encoded data removed]",
      "text/plain": [
       "<Figure size 432x288 with 1 Axes>"
      ]
     },
     "metadata": {
      "needs_background": "light"
     },
     "output_type": "display_data"
    }
   ],
   "source": [
    "# Temp vs. Latitude\n",
    "plt.scatter(temps, lats)\n",
    "plt.xlabel(\"Temperature (F)\")\n",
    "plt.ylabel(\"Latitude\")\n",
    "plt.ylim(-90,90)\n",
    "plt.xlim(-30, 120)"
   ]
  },
  {
   "cell_type": "code",
   "execution_count": 6,
   "id": "2b1846e1",
   "metadata": {},
   "outputs": [
    {
     "data": {
      "text/plain": [
       "(0, 100)"
      ]
     },
     "execution_count": 6,
     "metadata": {},
     "output_type": "execute_result"
    },
    {
     "data": {
      "image/png": "[encoded data removed]",
      "text/plain": [
       "<Figure size 432x288 with 1 Axes>"
      ]
     },
     "metadata": {
      "needs_background": "light"
     },
     "output_type": "display_data"
    }
   ],
   "source": [
    "# Humidity vs. Latitude\n",
    "plt.scatter(humids, lats)\n",
    "plt.xlabel(\"Humidity (%)\")\n",
    "plt.ylabel(\"Latitude\")\n",
    "plt.ylim(-90,90)\n",
    "plt.xlim(0, 100)"
   ]
  },
  {
   "cell_type": "code",
   "execution_count": 7,
   "id": "4e15447e",
   "metadata": {},
   "outputs": [
    {
     "data": {
      "text/plain": [
       "(0, 110)"
      ]
     },
     "execution_count": 7,
     "metadata": {},
     "output_type": "execute_result"
    },
    {
     "data": {
      "image/png": "[encoded data removed]",
      "text/plain": [
       "<Figure size 432x288 with 1 Axes>"
      ]
     },
     "metadata": {
      "needs_background": "light"
     },
     "output_type": "display_data"
    }
   ],
   "source": [
    "# Cloudiness vs. Latitude\n",
    "plt.scatter(clouds, lats)\n",
    "plt.xlabel(\"Cloudiness (%)\")\n",
    "plt.ylabel(\"Latitude\")\n",
    "plt.ylim(-90,90)\n",
    "plt.xlim(0, 110)"
   ]
  },
  {
   "cell_type": "code",
   "execution_count": 8,
   "id": "7d93cc14",
   "metadata": {},
   "outputs": [
    {
     "data": {
      "text/plain": [
       "(0, 60)"
      ]
     },
     "execution_count": 8,
     "metadata": {},
     "output_type": "execute_result"
    },
    {
     "data": {
      "image/png": "[encoded data removed]",
      "text/plain": [
       "<Figure size 432x288 with 1 Axes>"
      ]
     },
     "metadata": {
      "needs_background": "light"
     },
     "output_type": "display_data"
    }
   ],
   "source": [
    "# Wind speed vs. Latitude\n",
    "plt.scatter(winds, lats)\n",
    "plt.xlabel(\"Wind Speed (mph)\")\n",
    "plt.ylabel(\"Latitude\")\n",
    "plt.ylim(-90,90)\n",
    "plt.xlim(0, 60)"
   ]
  },
  {
   "cell_type": "code",
   "execution_count": 32,
   "id": "bf487cf6",
   "metadata": {},
   "outputs": [
    {
     "data": {
      "text/html": [
       "<div>\n",
       "<style scoped>\n",
       "    .dataframe tbody tr th:only-of-type {\n",
       "        vertical-align: middle;\n",
       "    }\n",
       "\n",
       "    .dataframe tbody tr th {\n",
       "        vertical-align: top;\n",
       "    }\n",
       "\n",
       "    .dataframe thead th {\n",
       "        text-align: right;\n",
       "    }\n",
       "</style>\n",
       "<table border=\"1\" class=\"dataframe\">\n",
       "  <thead>\n",
       "    <tr style=\"text-align: right;\">\n",
       "      <th></th>\n",
       "      <th>Latitude</th>\n",
       "      <th>Longitude</th>\n",
       "      <th>City</th>\n",
       "      <th>Temperature</th>\n",
       "      <th>Humidity</th>\n",
       "      <th>Cloudiness</th>\n",
       "      <th>Wind Speed</th>\n",
       "      <th>Hemisphere</th>\n",
       "    </tr>\n",
       "  </thead>\n",
       "  <tbody>\n",
       "    <tr>\n",
       "      <th>0</th>\n",
       "      <td>0.924301</td>\n",
       "      <td>-33.989523</td>\n",
       "      <td>Touros, BR</td>\n",
       "      <td>80.46</td>\n",
       "      <td>81</td>\n",
       "      <td>100</td>\n",
       "      <td>7.43</td>\n",
       "      <td>Northern</td>\n",
       "    </tr>\n",
       "    <tr>\n",
       "      <th>1</th>\n",
       "      <td>-18.499855</td>\n",
       "      <td>-151.703681</td>\n",
       "      <td>Tevaitoa, PF</td>\n",
       "      <td>81.28</td>\n",
       "      <td>68</td>\n",
       "      <td>4</td>\n",
       "      <td>4.52</td>\n",
       "      <td>Southern</td>\n",
       "    </tr>\n",
       "    <tr>\n",
       "      <th>2</th>\n",
       "      <td>3.321691</td>\n",
       "      <td>22.698733</td>\n",
       "      <td>Ouango, CF</td>\n",
       "      <td>69.71</td>\n",
       "      <td>99</td>\n",
       "      <td>100</td>\n",
       "      <td>2.75</td>\n",
       "      <td>Northern</td>\n",
       "    </tr>\n",
       "    <tr>\n",
       "      <th>3</th>\n",
       "      <td>-49.235988</td>\n",
       "      <td>82.161359</td>\n",
       "      <td>Busselton, AU</td>\n",
       "      <td>43.48</td>\n",
       "      <td>96</td>\n",
       "      <td>100</td>\n",
       "      <td>21.54</td>\n",
       "      <td>Southern</td>\n",
       "    </tr>\n",
       "    <tr>\n",
       "      <th>4</th>\n",
       "      <td>-0.968984</td>\n",
       "      <td>-57.865464</td>\n",
       "      <td>Urucara, BR</td>\n",
       "      <td>70.02</td>\n",
       "      <td>98</td>\n",
       "      <td>67</td>\n",
       "      <td>0.72</td>\n",
       "      <td>Southern</td>\n",
       "    </tr>\n",
       "  </tbody>\n",
       "</table>\n",
       "</div>"
      ],
      "text/plain": [
       "    Latitude   Longitude           City  Temperature  Humidity  Cloudiness  \\\n",
       "0   0.924301  -33.989523     Touros, BR        80.46        81         100   \n",
       "1 -18.499855 -151.703681   Tevaitoa, PF        81.28        68           4   \n",
       "2   3.321691   22.698733     Ouango, CF        69.71        99         100   \n",
       "3 -49.235988   82.161359  Busselton, AU        43.48        96         100   \n",
       "4  -0.968984  -57.865464    Urucara, BR        70.02        98          67   \n",
       "\n",
       "   Wind Speed Hemisphere  \n",
       "0        7.43   Northern  \n",
       "1        4.52   Southern  \n",
       "2        2.75   Northern  \n",
       "3       21.54   Southern  \n",
       "4        0.72   Southern  "
      ]
     },
     "execution_count": 32,
     "metadata": {},
     "output_type": "execute_result"
    }
   ],
   "source": [
    "hemisphere = []\n",
    "for index, row in df.iterrows():\n",
    "    lat = row[\"Latitude\"]\n",
    "    if lat >= 0:\n",
    "        hem = \"Northern\"\n",
    "        hemisphere.append(hem)\n",
    "    elif lat < 0:\n",
    "        hem = \"Southern\"\n",
    "        hemisphere.append(hem)\n",
    "df.head()\n",
    "df[\"Hemisphere\"] = hemisphere\n",
    "df.head()"
   ]
  },
  {
   "cell_type": "code",
   "execution_count": 36,
   "id": "27425064",
   "metadata": {},
   "outputs": [
    {
     "data": {
      "text/html": [
       "<div>\n",
       "<style scoped>\n",
       "    .dataframe tbody tr th:only-of-type {\n",
       "        vertical-align: middle;\n",
       "    }\n",
       "\n",
       "    .dataframe tbody tr th {\n",
       "        vertical-align: top;\n",
       "    }\n",
       "\n",
       "    .dataframe thead th {\n",
       "        text-align: right;\n",
       "    }\n",
       "</style>\n",
       "<table border=\"1\" class=\"dataframe\">\n",
       "  <thead>\n",
       "    <tr style=\"text-align: right;\">\n",
       "      <th></th>\n",
       "      <th>Latitude</th>\n",
       "      <th>Longitude</th>\n",
       "      <th>City</th>\n",
       "      <th>Temperature</th>\n",
       "      <th>Humidity</th>\n",
       "      <th>Cloudiness</th>\n",
       "      <th>Wind Speed</th>\n",
       "      <th>Hemisphere</th>\n",
       "    </tr>\n",
       "  </thead>\n",
       "  <tbody>\n",
       "    <tr>\n",
       "      <th>0</th>\n",
       "      <td>0.924301</td>\n",
       "      <td>-33.989523</td>\n",
       "      <td>Touros, BR</td>\n",
       "      <td>80.46</td>\n",
       "      <td>81</td>\n",
       "      <td>100</td>\n",
       "      <td>7.43</td>\n",
       "      <td>Northern</td>\n",
       "    </tr>\n",
       "    <tr>\n",
       "      <th>2</th>\n",
       "      <td>3.321691</td>\n",
       "      <td>22.698733</td>\n",
       "      <td>Ouango, CF</td>\n",
       "      <td>69.71</td>\n",
       "      <td>99</td>\n",
       "      <td>100</td>\n",
       "      <td>2.75</td>\n",
       "      <td>Northern</td>\n",
       "    </tr>\n",
       "  </tbody>\n",
       "</table>\n",
       "</div>"
      ],
      "text/plain": [
       "   Latitude  Longitude        City  Temperature  Humidity  Cloudiness  \\\n",
       "0  0.924301 -33.989523  Touros, BR        80.46        81         100   \n",
       "2  3.321691  22.698733  Ouango, CF        69.71        99         100   \n",
       "\n",
       "   Wind Speed Hemisphere  \n",
       "0        7.43   Northern  \n",
       "2        2.75   Northern  "
      ]
     },
     "execution_count": 36,
     "metadata": {},
     "output_type": "execute_result"
    }
   ],
   "source": [
    "n_hem = df.loc[(df[\"Hemisphere\"]) == \"Northern\"]\n",
    "n_hem"
   ]
  },
  {
   "cell_type": "code",
   "execution_count": 37,
   "id": "24476d0d",
   "metadata": {},
   "outputs": [
    {
     "data": {
      "text/html": [
       "<div>\n",
       "<style scoped>\n",
       "    .dataframe tbody tr th:only-of-type {\n",
       "        vertical-align: middle;\n",
       "    }\n",
       "\n",
       "    .dataframe tbody tr th {\n",
       "        vertical-align: top;\n",
       "    }\n",
       "\n",
       "    .dataframe thead th {\n",
       "        text-align: right;\n",
       "    }\n",
       "</style>\n",
       "<table border=\"1\" class=\"dataframe\">\n",
       "  <thead>\n",
       "    <tr style=\"text-align: right;\">\n",
       "      <th></th>\n",
       "      <th>Latitude</th>\n",
       "      <th>Longitude</th>\n",
       "      <th>City</th>\n",
       "      <th>Temperature</th>\n",
       "      <th>Humidity</th>\n",
       "      <th>Cloudiness</th>\n",
       "      <th>Wind Speed</th>\n",
       "      <th>Hemisphere</th>\n",
       "    </tr>\n",
       "  </thead>\n",
       "  <tbody>\n",
       "    <tr>\n",
       "      <th>1</th>\n",
       "      <td>-18.499855</td>\n",
       "      <td>-151.703681</td>\n",
       "      <td>Tevaitoa, PF</td>\n",
       "      <td>81.28</td>\n",
       "      <td>68</td>\n",
       "      <td>4</td>\n",
       "      <td>4.52</td>\n",
       "      <td>Southern</td>\n",
       "    </tr>\n",
       "    <tr>\n",
       "      <th>3</th>\n",
       "      <td>-49.235988</td>\n",
       "      <td>82.161359</td>\n",
       "      <td>Busselton, AU</td>\n",
       "      <td>43.48</td>\n",
       "      <td>96</td>\n",
       "      <td>100</td>\n",
       "      <td>21.54</td>\n",
       "      <td>Southern</td>\n",
       "    </tr>\n",
       "    <tr>\n",
       "      <th>4</th>\n",
       "      <td>-0.968984</td>\n",
       "      <td>-57.865464</td>\n",
       "      <td>Urucara, BR</td>\n",
       "      <td>70.02</td>\n",
       "      <td>98</td>\n",
       "      <td>67</td>\n",
       "      <td>0.72</td>\n",
       "      <td>Southern</td>\n",
       "    </tr>\n",
       "  </tbody>\n",
       "</table>\n",
       "</div>"
      ],
      "text/plain": [
       "    Latitude   Longitude           City  Temperature  Humidity  Cloudiness  \\\n",
       "1 -18.499855 -151.703681   Tevaitoa, PF        81.28        68           4   \n",
       "3 -49.235988   82.161359  Busselton, AU        43.48        96         100   \n",
       "4  -0.968984  -57.865464    Urucara, BR        70.02        98          67   \n",
       "\n",
       "   Wind Speed Hemisphere  \n",
       "1        4.52   Southern  \n",
       "3       21.54   Southern  \n",
       "4        0.72   Southern  "
      ]
     },
     "execution_count": 37,
     "metadata": {},
     "output_type": "execute_result"
    }
   ],
   "source": [
    "s_hem = df.loc[(df[\"Hemisphere\"]) == \"Southern\"]\n",
    "s_hem"
   ]
  },
  {
   "cell_type": "code",
   "execution_count": null,
   "id": "8e4575be",
   "metadata": {},
   "outputs": [],
   "source": []
  }
 ],
 "metadata": {
  "kernelspec": {
   "display_name": "Python 3",
   "language": "python",
   "name": "python3"
  },
  "language_info": {
   "codemirror_mode": {
    "name": "ipython",
    "version": 3
   },
   "file_extension": ".py",
   "mimetype": "text/x-python",
   "name": "python",
   "nbconvert_exporter": "python",
   "pygments_lexer": "ipython3",
   "version": "3.6.10"
  }
 },
 "nbformat": 4,
 "nbformat_minor": 5
}
