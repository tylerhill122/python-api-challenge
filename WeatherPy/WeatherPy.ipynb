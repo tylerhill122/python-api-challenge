{
 "cells": [
  {
   "cell_type": "markdown",
   "id": "4d12bb6b",
   "metadata": {},
   "source": [
    "WeatherPy"
   ]
  },
  {
   "cell_type": "code",
   "execution_count": 31,
   "id": "f637da3f",
   "metadata": {},
   "outputs": [],
   "source": [
    "import requests\n",
    "import json\n",
    "from pprint import pprint\n",
    "from api_keys import weather_api_key\n",
    "from citipy import citipy"
   ]
  },
  {
   "cell_type": "code",
   "execution_count": 32,
   "id": "4579719e",
   "metadata": {},
   "outputs": [],
   "source": [
    "url = \"https://api.openweathermap.org/data/2.5/weather?\"\n",
    "lat = 34.0901\n",
    "lon = -118.4065\n",
    "units = \"Imperial\"\n",
    "\n",
    "q_url = f'{url}lat={lat}&lon={lon}&units={units}&APPID={weather_api_key}'\n",
    "# https://api.openweathermap.org/data/2.5/weather?lat={lat}&lon={lon}&appid={API key}"
   ]
  },
  {
   "cell_type": "code",
   "execution_count": 33,
   "id": "598374b6",
   "metadata": {},
   "outputs": [
    {
     "name": "stdout",
     "output_type": "stream",
     "text": [
      "{'base': 'stations',\n",
      " 'clouds': {'all': 0},\n",
      " 'cod': 200,\n",
      " 'coord': {'lat': 34.0901, 'lon': -118.4065},\n",
      " 'dt': 1650241260,\n",
      " 'id': 5328041,\n",
      " 'main': {'feels_like': 68.32,\n",
      "          'humidity': 59,\n",
      "          'pressure': 1013,\n",
      "          'temp': 68.95,\n",
      "          'temp_max': 79.72,\n",
      "          'temp_min': 58.06},\n",
      " 'name': 'Beverly Hills',\n",
      " 'sys': {'country': 'US',\n",
      "         'id': 2043049,\n",
      "         'sunrise': 1650201587,\n",
      "         'sunset': 1650248765,\n",
      "         'type': 2},\n",
      " 'timezone': -25200,\n",
      " 'visibility': 10000,\n",
      " 'weather': [{'description': 'clear sky',\n",
      "              'icon': '01d',\n",
      "              'id': 800,\n",
      "              'main': 'Clear'}],\n",
      " 'wind': {'deg': 260, 'speed': 13.8}}\n"
     ]
    }
   ],
   "source": [
    "response = requests.get(q_url).json()\n",
    "pprint(response)"
   ]
  },
  {
   "cell_type": "code",
   "execution_count": 43,
   "id": "575fdfa1",
   "metadata": {},
   "outputs": [
    {
     "name": "stdout",
     "output_type": "stream",
     "text": [
      "Beverly Hills, US\n"
     ]
    }
   ],
   "source": [
    "temp = response[\"main\"][\"temp\"]\n",
    "humidity = response[\"main\"][\"humidity\"]\n",
    "cloudiness = response[\"clouds\"][\"all\"]\n",
    "wind_speed = response[\"wind\"][\"speed\"]\n",
    "city = citipy.nearest_city(lat, lon)\n",
    "f_city = city.city_name.title()\n",
    "f_country = city.country_code.upper()\n",
    "print(f'{f_city}, {f_country}')"
   ]
  },
  {
   "cell_type": "code",
   "execution_count": null,
   "id": "e43805a3",
   "metadata": {},
   "outputs": [],
   "source": []
  }
 ],
 "metadata": {
  "kernelspec": {
   "display_name": "Python 3",
   "language": "python",
   "name": "python3"
  },
  "language_info": {
   "codemirror_mode": {
    "name": "ipython",
    "version": 3
   },
   "file_extension": ".py",
   "mimetype": "text/x-python",
   "name": "python",
   "nbconvert_exporter": "python",
   "pygments_lexer": "ipython3",
   "version": "3.6.10"
  }
 },
 "nbformat": 4,
 "nbformat_minor": 5
}
