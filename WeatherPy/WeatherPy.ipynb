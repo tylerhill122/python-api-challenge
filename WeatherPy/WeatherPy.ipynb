{
 "cells": [
  {
   "cell_type": "markdown",
   "id": "2aec51c4",
   "metadata": {},
   "source": [
    "WeatherPy"
   ]
  },
  {
   "cell_type": "code",
   "execution_count": 111,
   "id": "9e2a29d4",
   "metadata": {},
   "outputs": [],
   "source": [
    "import pandas as pd\n",
    "import requests\n",
    "import json\n",
    "import random\n",
    "import matplotlib.pyplot as plt\n",
    "from pprint import pprint\n",
    "from api_keys import weather_api_key\n",
    "from citipy import citipy"
   ]
  },
  {
   "cell_type": "code",
   "execution_count": 112,
   "id": "338ee611",
   "metadata": {},
   "outputs": [],
   "source": [
    "# https://api.openweathermap.org/data/2.5/weather?lat={lat}&lon={lon}&appid={API key}"
   ]
  },
  {
   "cell_type": "code",
   "execution_count": 128,
   "id": "4497d73b",
   "metadata": {},
   "outputs": [
    {
     "data": {
      "text/html": [
       "<div>\n",
       "<style scoped>\n",
       "    .dataframe tbody tr th:only-of-type {\n",
       "        vertical-align: middle;\n",
       "    }\n",
       "\n",
       "    .dataframe tbody tr th {\n",
       "        vertical-align: top;\n",
       "    }\n",
       "\n",
       "    .dataframe thead th {\n",
       "        text-align: right;\n",
       "    }\n",
       "</style>\n",
       "<table border=\"1\" class=\"dataframe\">\n",
       "  <thead>\n",
       "    <tr style=\"text-align: right;\">\n",
       "      <th></th>\n",
       "      <th>Latitude</th>\n",
       "      <th>Longitude</th>\n",
       "      <th>City</th>\n",
       "      <th>Temperature</th>\n",
       "      <th>Humidity</th>\n",
       "      <th>Cloudiness</th>\n",
       "      <th>Wind Speed</th>\n",
       "    </tr>\n",
       "  </thead>\n",
       "  <tbody>\n",
       "    <tr>\n",
       "      <th>0</th>\n",
       "      <td>80.501639</td>\n",
       "      <td>79.966807</td>\n",
       "      <td>Dikson, RU</td>\n",
       "      <td>4.05</td>\n",
       "      <td>93</td>\n",
       "      <td>100</td>\n",
       "      <td>14.76</td>\n",
       "    </tr>\n",
       "    <tr>\n",
       "      <th>1</th>\n",
       "      <td>-27.778065</td>\n",
       "      <td>43.466587</td>\n",
       "      <td>Beloha, MG</td>\n",
       "      <td>74.68</td>\n",
       "      <td>80</td>\n",
       "      <td>89</td>\n",
       "      <td>23.11</td>\n",
       "    </tr>\n",
       "    <tr>\n",
       "      <th>2</th>\n",
       "      <td>8.595653</td>\n",
       "      <td>-110.252555</td>\n",
       "      <td>San Patricio, MX</td>\n",
       "      <td>83.75</td>\n",
       "      <td>78</td>\n",
       "      <td>58</td>\n",
       "      <td>11.79</td>\n",
       "    </tr>\n",
       "    <tr>\n",
       "      <th>3</th>\n",
       "      <td>33.121446</td>\n",
       "      <td>-42.336502</td>\n",
       "      <td>Ribeira Grande, PT</td>\n",
       "      <td>64.38</td>\n",
       "      <td>82</td>\n",
       "      <td>94</td>\n",
       "      <td>22.15</td>\n",
       "    </tr>\n",
       "    <tr>\n",
       "      <th>4</th>\n",
       "      <td>-65.747649</td>\n",
       "      <td>108.343931</td>\n",
       "      <td>Albany, AU</td>\n",
       "      <td>0.12</td>\n",
       "      <td>79</td>\n",
       "      <td>100</td>\n",
       "      <td>44.74</td>\n",
       "    </tr>\n",
       "  </tbody>\n",
       "</table>\n",
       "</div>"
      ],
      "text/plain": [
       "    Latitude   Longitude                City  Temperature  Humidity  \\\n",
       "0  80.501639   79.966807          Dikson, RU         4.05        93   \n",
       "1 -27.778065   43.466587          Beloha, MG        74.68        80   \n",
       "2   8.595653 -110.252555    San Patricio, MX        83.75        78   \n",
       "3  33.121446  -42.336502  Ribeira Grande, PT        64.38        82   \n",
       "4 -65.747649  108.343931          Albany, AU         0.12        79   \n",
       "\n",
       "   Cloudiness  Wind Speed  \n",
       "0         100       14.76  \n",
       "1          89       23.11  \n",
       "2          58       11.79  \n",
       "3          94       22.15  \n",
       "4         100       44.74  "
      ]
     },
     "execution_count": 128,
     "metadata": {},
     "output_type": "execute_result"
    }
   ],
   "source": [
    "url = \"https://api.openweathermap.org/data/2.5/weather?\"\n",
    "units = \"Imperial\"\n",
    "\n",
    "lats = []\n",
    "longs = []\n",
    "cities = []\n",
    "temperature = []\n",
    "humidity = []\n",
    "cloudiness = []\n",
    "wind_speed = []\n",
    "\n",
    "num_samples = 5\n",
    "\n",
    "for x in range(num_samples):\n",
    "    lat = random.uniform(-90,90)\n",
    "    lats.append(lat)\n",
    "    long = random.uniform(-180,180)\n",
    "    longs.append(long)\n",
    "    city = citipy.nearest_city(lat, long)\n",
    "    f_city = city.city_name.title()\n",
    "    f_country = city.country_code.upper()\n",
    "    cities.append(f'{f_city}, {f_country}')\n",
    "    \n",
    "    q_url = f'{url}lat={lat}&lon={long}&units={units}&APPID={weather_api_key}'\n",
    "    response = requests.get(q_url).json()\n",
    "    temp = response[\"main\"][\"temp\"]\n",
    "    humid = response[\"main\"][\"humidity\"]\n",
    "    cloud = response[\"clouds\"][\"all\"]\n",
    "    wind = response[\"wind\"][\"speed\"]\n",
    "    \n",
    "    temperature.append(temp)\n",
    "    humidity.append(humid)\n",
    "    cloudiness.append(cloud)\n",
    "    wind_speed.append(wind)\n",
    "    \n",
    "df = pd.DataFrame({\n",
    "    \"Latitude\": lats,\n",
    "    \"Longitude\": longs,\n",
    "    \"City\": cities,\n",
    "    \"Temperature\": temperature,\n",
    "    \"Humidity\": humidity,\n",
    "    \"Cloudiness\": cloudiness,\n",
    "    \"Wind Speed\": wind_speed,\n",
    "})\n",
    "df.head(20)"
   ]
  },
  {
   "cell_type": "code",
   "execution_count": 129,
   "id": "1f90d774",
   "metadata": {},
   "outputs": [],
   "source": [
    "lats = df[\"Latitude\"]\n",
    "longs = df[\"Longitude\"]\n",
    "temps = df[\"Temperature\"]\n",
    "humids = df[\"Humidity\"]\n",
    "clouds = df[\"Cloudiness\"]\n",
    "winds = df[\"Wind Speed\"]"
   ]
  },
  {
   "cell_type": "code",
   "execution_count": 143,
   "id": "a838952b",
   "metadata": {},
   "outputs": [
    {
     "data": {
      "text/plain": [
       "(-30, 120)"
      ]
     },
     "execution_count": 143,
     "metadata": {},
     "output_type": "execute_result"
    },
    {
     "data": {
      "image/png": "[encoded data removed]",
      "text/plain": [
       "<Figure size 432x288 with 1 Axes>"
      ]
     },
     "metadata": {
      "needs_background": "light"
     },
     "output_type": "display_data"
    }
   ],
   "source": [
    "# Temp vs. Latitude\n",
    "plt.scatter(temps, lats)\n",
    "plt.xlabel(\"Temperature (F)\")\n",
    "plt.ylabel(\"Latitude\")\n",
    "plt.ylim(-90,90)\n",
    "plt.xlim(-30, 120)"
   ]
  },
  {
   "cell_type": "code",
   "execution_count": 145,
   "id": "3b09c86a",
   "metadata": {},
   "outputs": [
    {
     "data": {
      "text/plain": [
       "(0, 100)"
      ]
     },
     "execution_count": 145,
     "metadata": {},
     "output_type": "execute_result"
    },
    {
     "data": {
      "image/png": "[encoded data removed]",
      "text/plain": [
       "<Figure size 432x288 with 1 Axes>"
      ]
     },
     "metadata": {
      "needs_background": "light"
     },
     "output_type": "display_data"
    }
   ],
   "source": [
    "# Humidity vs. Latitude\n",
    "plt.scatter(humids, lats)\n",
    "plt.xlabel(\"Humidity (%)\")\n",
    "plt.ylabel(\"Latitude\")\n",
    "plt.ylim(-90,90)\n",
    "plt.xlim(0, 100)"
   ]
  },
  {
   "cell_type": "code",
   "execution_count": 147,
   "id": "b0a48a44",
   "metadata": {},
   "outputs": [
    {
     "data": {
      "text/plain": [
       "(0, 110)"
      ]
     },
     "execution_count": 147,
     "metadata": {},
     "output_type": "execute_result"
    },
    {
     "data": {
      "image/png": "[encoded data removed]",
      "text/plain": [
       "<Figure size 432x288 with 1 Axes>"
      ]
     },
     "metadata": {
      "needs_background": "light"
     },
     "output_type": "display_data"
    }
   ],
   "source": [
    "# Cloudiness vs. Latitude\n",
    "plt.scatter(clouds, lats)\n",
    "plt.xlabel(\"Cloudiness (%)\")\n",
    "plt.ylabel(\"Latitude\")\n",
    "plt.ylim(-90,90)\n",
    "plt.xlim(0, 110)"
   ]
  },
  {
   "cell_type": "code",
   "execution_count": 152,
   "id": "dc1c2ed3",
   "metadata": {},
   "outputs": [
    {
     "data": {
      "text/plain": [
       "(0, 60)"
      ]
     },
     "execution_count": 152,
     "metadata": {},
     "output_type": "execute_result"
    },
    {
     "data": {
      "image/png": "[encoded data removed]",
      "text/plain": [
       "<Figure size 432x288 with 1 Axes>"
      ]
     },
     "metadata": {
      "needs_background": "light"
     },
     "output_type": "display_data"
    }
   ],
   "source": [
    "# Wind speed vs. Latitude\n",
    "plt.scatter(winds, lats)\n",
    "plt.xlabel(\"Wind Speed (mph)\")\n",
    "plt.ylabel(\"Latitude\")\n",
    "plt.ylim(-90,90)\n",
    "plt.xlim(0, 60)"
   ]
  },
  {
   "cell_type": "code",
   "execution_count": null,
   "id": "461d8934",
   "metadata": {},
   "outputs": [],
   "source": []
  }
 ],
 "metadata": {
  "kernelspec": {
   "display_name": "Python 3",
   "language": "python",
   "name": "python3"
  },
  "language_info": {
   "codemirror_mode": {
    "name": "ipython",
    "version": 3
   },
   "file_extension": ".py",
   "mimetype": "text/x-python",
   "name": "python",
   "nbconvert_exporter": "python",
   "pygments_lexer": "ipython3",
   "version": "3.6.10"
  }
 },
 "nbformat": 4,
 "nbformat_minor": 5
}
